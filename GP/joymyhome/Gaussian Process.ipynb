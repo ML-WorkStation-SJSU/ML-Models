{
 "cells": [
  {
   "cell_type": "markdown",
   "metadata": {},
   "source": [
    "## What is Gaussian Process"
   ]
  },
  {
   "cell_type": "markdown",
   "metadata": {},
   "source": [
    "Formally, let's say that we observed a function $f$, at n values $x_1, x_2, x_3...x_n$ as $f(x_1), f(x_2), ....f(x_n)$. The function is a Gaussian Process if all of the values (or any number of them) $f(x_1), f(x_2), ....f(x_n)$ are [**jointly Gaussian**](http://someurl \"A joint Gaussian distribution shows a Gaussian probability distribution for two (or more) random variables. Same as Multivariate Gaussian\"), with a mean of $\\mu(x)$ and a covariance of $\\Sigma_x$ given by $\\Sigma_{ij} = k(x_i, x_j)$\n",
    "\n",
    "$k$ function defines how two variables are related to each other. There are different kinds of kernels."
   ]
  },
  {
   "cell_type": "markdown",
   "metadata": {},
   "source": [
    "### Understanding covariance matrix\n",
    "\n",
    "The covriance matrix ensures that two values $(x_i, x_j$ close in the input space produce closer values in the output space $(f(x_i), f(x_j))$"
   ]
  },
  {
   "cell_type": "markdown",
   "metadata": {},
   "source": [
    "### The problem to solve\n",
    "\n",
    "The problem we are trying to solve through GP is as follows: given a set of inputs, $X$, and it's values, $f$, we are trying to estimate the distribution over outputs $f_*$ for a new set of inputs $X_*$.\n",
    "\n",
    "Mathematcially, the quantity we are trying to estimate can be written as follows:$$p(f_*|X, X_*, f)$$"
   ]
  },
  {
   "cell_type": "markdown",
   "metadata": {},
   "source": [
    "To obtain this, the model $f$ as a GP so that we know that both $f$ and $f_*$ are coming from a multivariate Gaussian with the following mean and covariance function:![image](images/GP.png)\n"
   ]
  },
  {
   "cell_type": "markdown",
   "metadata": {},
   "source": [
    "where $\\mu$ and $\\mu_*$ represent the prior mean of the distribution of $f$ and $f_*$ over observed annd unobserved function values.\n",
    "\n",
    "K represents the matrix obtained after applying the kernel function to each of the observed values,$X$\n",
    "\n",
    "$K_*$ represents the matrix obtained by applying the same kermal function to values in the training and testing dataset. $K_{**}$ is the matrix obtained by measuring the similarity between the input values in the test set."
   ]
  },
  {
   "cell_type": "markdown",
   "metadata": {},
   "source": [
    "### Kernal functions\n",
    "\n",
    "Kernel function tries to map the similarity between two data points in the input space to the output space. Let's assume, there are two data points $x_i $ and $x_j$ with corresponding function values as $f(x_i)$ and $f(x_j)$.  The Kernel function measures how the closeness between two points $x_i$ and $x_j$ in the input space maps to the similarity or correlation between their function values $f(x_i)$ and $f(x_j)$ .\n",
    "\n",
    "The only requirement for the kernel function is that it should map many two input values $x_j$ and $x_j$ to a scalar such that K is positive/semi-definite for it to be a valid covriance function."
   ]
  },
  {
   "cell_type": "markdown",
   "metadata": {},
   "source": [
    "### Commonly used Kernal functions\n",
    "\n",
    "* While noise kernal\n",
    "$$k(x_i, x_j) = \\sigma^2 \\delta(i, j)$$\n",
    "\n",
    "* Squared exponential (SE) kernel\n",
    "$$k_{SE}(x_i, x_j) = \\sigma^2exp[-(\\frac{x_i-x_j}{l})^2]$$\n",
    "    $\\sigma$ is a scaling factor and $l$ is the smoothness parameter determines the smootheness of kernal function. The functions drawn from the GP through this kernal are infinitely differentiable(a good characteristics)"
   ]
  },
  {
   "cell_type": "markdown",
   "metadata": {},
   "source": [
    "### Hyperparameters\n",
    "\n",
    "Let's denote the parameter set of any kernal as $\\theta$. How do we estimate $\\theta$?\n",
    "\n",
    "Choose $\\theta$ by maximizing the likelihood of the observed data points over this assumption."
   ]
  },
  {
   "cell_type": "markdown",
   "metadata": {},
   "source": [
    "## Implementation of GP to predict stock market"
   ]
  },
  {
   "cell_type": "code",
   "execution_count": null,
   "metadata": {},
   "outputs": [],
   "source": []
  },
  {
   "cell_type": "code",
   "execution_count": null,
   "metadata": {},
   "outputs": [],
   "source": []
  },
  {
   "cell_type": "code",
   "execution_count": null,
   "metadata": {},
   "outputs": [],
   "source": []
  },
  {
   "cell_type": "code",
   "execution_count": null,
   "metadata": {},
   "outputs": [],
   "source": []
  },
  {
   "cell_type": "code",
   "execution_count": null,
   "metadata": {},
   "outputs": [],
   "source": []
  },
  {
   "cell_type": "code",
   "execution_count": null,
   "metadata": {},
   "outputs": [],
   "source": []
  },
  {
   "cell_type": "code",
   "execution_count": null,
   "metadata": {},
   "outputs": [],
   "source": []
  },
  {
   "cell_type": "markdown",
   "metadata": {},
   "source": [
    "### Reference\n",
    "\n",
    "TensorFlow Machine Learning Projects\n",
    "\n"
   ]
  },
  {
   "cell_type": "code",
   "execution_count": null,
   "metadata": {},
   "outputs": [],
   "source": []
  }
 ],
 "metadata": {
  "kernelspec": {
   "display_name": "Python 3",
   "language": "python",
   "name": "python3"
  },
  "language_info": {
   "codemirror_mode": {
    "name": "ipython",
    "version": 3
   },
   "file_extension": ".py",
   "mimetype": "text/x-python",
   "name": "python",
   "nbconvert_exporter": "python",
   "pygments_lexer": "ipython3",
   "version": "3.7.0"
  }
 },
 "nbformat": 4,
 "nbformat_minor": 2
}
