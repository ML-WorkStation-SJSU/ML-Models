{
 "cells": [
  {
   "cell_type": "markdown",
   "metadata": {},
   "source": [
    "### Naive Bayes introduction\n",
    "\n",
    "* Naive: Events are independent of each other\n",
    "    * because they make a simplifying assumption of conditional independence of each pair of the X features, given the y variable (meaning P(xi|y,x1...xn) is equivalent to P(xi|y)) （not always correct)\n",
    "* As a classifier, it assumes the independence of features\n",
    "    * Should perform better after removing colinera columns (remove features that are colinear)\n",
    "    * the result - Percentage is the likelihood that a sample belongs to a class based on priors\n",
    "\n",
    "### Bayes's theorem:\n",
    "![image](images/bayestheorem.png)\n",
    "\n",
    "**Prior probability: P(A)** - or initial degree of belief that event A will happen <br>\n",
    "After accounting for event B occuring, this initial belief gets updated, is represented by <br>\n",
    "**Posterial probability: P(A|B)**\n",
    "\n",
    "An example to understand the bayes theorem:\n",
    "Let's take a look at an example—say we are building a spam filter, and we find that 10% of emails are spam. This 10% is our prior, or P(spam). We want to know the probability an email we just received is spam given that it contains the word free—we want to find P(spam|free). In order to find this, we need the probability that the word free is in an email given that it is spam, or P(free|spam), and the probability of the word free being in an email.\n",
    "\n",
    "Let's say we learned that 12% of emails contained the word free and 20% of the emails that were determined to be spam contained the word free. Plugging all this into the equation from before, we see that once we know an email contains the word free, our belief of whether or not it is spam increases from 10% to 16.7%, which is our posterior probability:\n",
    "\n",
    "![image](images/example-bayes.png)\n",
    "\n",
    "With multiple features\n",
    "![image](images/multiplefeatures.png)"
   ]
  },
  {
   "cell_type": "markdown",
   "metadata": {},
   "source": [
    "Application\n",
    "* Used for text classification - catching spam\n",
    "* In sklearn there are three classes:\n",
    "    - GaussianNB\n",
    "        * Assumes a Gaussian distritbuion, continuous features with a normal distribution\n",
    "        * Need to transform data to convert to normal distribution\n",
    "    - MultinomialNB\n",
    "        * Discrete occurence counts\n",
    "    - BermoulliNB\n",
    "        * Discrete Boolean features\n"
   ]
  },
  {
   "cell_type": "markdown",
   "metadata": {},
   "source": [
    "Advantages:\n",
    "* Can train a model with a small number of samples\n",
    "   \n",
    "* Serves as a good baseline model\n",
    "    * because we don't have to tune any hyperparameters, and it is quick to train.\n",
    "* Best applied to problems in which information from a very high number of attributes should be considered simultaneously to estimate the probability of final outcome. "
   ]
  },
  {
   "cell_type": "markdown",
   "metadata": {},
   "source": [
    "Disadvantages:\n",
    "* Can't capture the interactions between features\n",
    "* These models are susceptible to the zero probability problem. If you try to classify a new sample that has no training data, it will have a zero probability.\n",
    "    * One solution is to use Laplace smoothing. Sklearn controls this with the alpha parameter, which defaults to 1 and enables smoothing on the MultinomialNB and BernoulliNB models."
   ]
  },
  {
   "cell_type": "markdown",
   "metadata": {},
   "source": [
    "### Implementation"
   ]
  },
  {
   "cell_type": "code",
   "execution_count": 1,
   "metadata": {},
   "outputs": [],
   "source": [
    "import pandas as pd\n",
    "import numpy as np\n",
    "import matplotlib.pyplot as plt\n",
    "import seaborn as sns"
   ]
  },
  {
   "cell_type": "code",
   "execution_count": 3,
   "metadata": {},
   "outputs": [],
   "source": [
    "df_messages = pd.read_csv('data/spam.csv', encoding='latin-1',\\\n",
    "                         sep=',', names=['labels', 'message'])"
   ]
  },
  {
   "cell_type": "code",
   "execution_count": 5,
   "metadata": {},
   "outputs": [
    {
     "data": {
      "text/html": [
       "<div>\n",
       "<style scoped>\n",
       "    .dataframe tbody tr th:only-of-type {\n",
       "        vertical-align: middle;\n",
       "    }\n",
       "\n",
       "    .dataframe tbody tr th {\n",
       "        vertical-align: top;\n",
       "    }\n",
       "\n",
       "    .dataframe thead th {\n",
       "        text-align: right;\n",
       "    }\n",
       "</style>\n",
       "<table border=\"1\" class=\"dataframe\">\n",
       "  <thead>\n",
       "    <tr style=\"text-align: right;\">\n",
       "      <th></th>\n",
       "      <th>labels</th>\n",
       "      <th>message</th>\n",
       "    </tr>\n",
       "  </thead>\n",
       "  <tbody>\n",
       "    <tr>\n",
       "      <th>0</th>\n",
       "      <td>ham</td>\n",
       "      <td>Go until jurong point, crazy.. Available only ...</td>\n",
       "    </tr>\n",
       "    <tr>\n",
       "      <th>1</th>\n",
       "      <td>ham</td>\n",
       "      <td>Ok lar... Joking wif u oni...</td>\n",
       "    </tr>\n",
       "    <tr>\n",
       "      <th>2</th>\n",
       "      <td>spam</td>\n",
       "      <td>Free entry in 2 a wkly comp to win FA Cup fina...</td>\n",
       "    </tr>\n",
       "  </tbody>\n",
       "</table>\n",
       "</div>"
      ],
      "text/plain": [
       "  labels                                            message\n",
       "0    ham  Go until jurong point, crazy.. Available only ...\n",
       "1    ham                      Ok lar... Joking wif u oni...\n",
       "2   spam  Free entry in 2 a wkly comp to win FA Cup fina..."
      ]
     },
     "execution_count": 5,
     "metadata": {},
     "output_type": "execute_result"
    }
   ],
   "source": [
    "df_messages.head(3)"
   ]
  },
  {
   "cell_type": "code",
   "execution_count": 6,
   "metadata": {
    "scrolled": true
   },
   "outputs": [
    {
     "data": {
      "text/html": [
       "<div>\n",
       "<style scoped>\n",
       "    .dataframe tbody tr th:only-of-type {\n",
       "        vertical-align: middle;\n",
       "    }\n",
       "\n",
       "    .dataframe tbody tr th {\n",
       "        vertical-align: top;\n",
       "    }\n",
       "\n",
       "    .dataframe thead th {\n",
       "        text-align: right;\n",
       "    }\n",
       "</style>\n",
       "<table border=\"1\" class=\"dataframe\">\n",
       "  <thead>\n",
       "    <tr style=\"text-align: right;\">\n",
       "      <th></th>\n",
       "      <th>labels</th>\n",
       "      <th>message</th>\n",
       "    </tr>\n",
       "  </thead>\n",
       "  <tbody>\n",
       "    <tr>\n",
       "      <th>count</th>\n",
       "      <td>5572</td>\n",
       "      <td>5572</td>\n",
       "    </tr>\n",
       "    <tr>\n",
       "      <th>unique</th>\n",
       "      <td>2</td>\n",
       "      <td>5169</td>\n",
       "    </tr>\n",
       "    <tr>\n",
       "      <th>top</th>\n",
       "      <td>ham</td>\n",
       "      <td>Sorry, I'll call later</td>\n",
       "    </tr>\n",
       "    <tr>\n",
       "      <th>freq</th>\n",
       "      <td>4825</td>\n",
       "      <td>30</td>\n",
       "    </tr>\n",
       "  </tbody>\n",
       "</table>\n",
       "</div>"
      ],
      "text/plain": [
       "       labels                 message\n",
       "count    5572                    5572\n",
       "unique      2                    5169\n",
       "top       ham  Sorry, I'll call later\n",
       "freq     4825                      30"
      ]
     },
     "execution_count": 6,
     "metadata": {},
     "output_type": "execute_result"
    }
   ],
   "source": [
    "df_messages.describe()"
   ]
  },
  {
   "cell_type": "code",
   "execution_count": 10,
   "metadata": {
    "scrolled": true
   },
   "outputs": [
    {
     "data": {
      "text/html": [
       "<div>\n",
       "<style scoped>\n",
       "    .dataframe tbody tr th:only-of-type {\n",
       "        vertical-align: middle;\n",
       "    }\n",
       "\n",
       "    .dataframe tbody tr th {\n",
       "        vertical-align: top;\n",
       "    }\n",
       "\n",
       "    .dataframe thead tr th {\n",
       "        text-align: left;\n",
       "    }\n",
       "\n",
       "    .dataframe thead tr:last-of-type th {\n",
       "        text-align: right;\n",
       "    }\n",
       "</style>\n",
       "<table border=\"1\" class=\"dataframe\">\n",
       "  <thead>\n",
       "    <tr>\n",
       "      <th></th>\n",
       "      <th colspan=\"4\" halign=\"left\">message</th>\n",
       "    </tr>\n",
       "    <tr>\n",
       "      <th></th>\n",
       "      <th>count</th>\n",
       "      <th>unique</th>\n",
       "      <th>top</th>\n",
       "      <th>freq</th>\n",
       "    </tr>\n",
       "    <tr>\n",
       "      <th>labels</th>\n",
       "      <th></th>\n",
       "      <th></th>\n",
       "      <th></th>\n",
       "      <th></th>\n",
       "    </tr>\n",
       "  </thead>\n",
       "  <tbody>\n",
       "    <tr>\n",
       "      <th>ham</th>\n",
       "      <td>4825</td>\n",
       "      <td>4516</td>\n",
       "      <td>Sorry, I'll call later</td>\n",
       "      <td>30</td>\n",
       "    </tr>\n",
       "    <tr>\n",
       "      <th>spam</th>\n",
       "      <td>747</td>\n",
       "      <td>653</td>\n",
       "      <td>Please call our customer service representativ...</td>\n",
       "      <td>4</td>\n",
       "    </tr>\n",
       "  </tbody>\n",
       "</table>\n",
       "</div>"
      ],
      "text/plain": [
       "       message                                                               \n",
       "         count unique                                                top freq\n",
       "labels                                                                       \n",
       "ham       4825   4516                             Sorry, I'll call later   30\n",
       "spam       747    653  Please call our customer service representativ...    4"
      ]
     },
     "execution_count": 10,
     "metadata": {},
     "output_type": "execute_result"
    }
   ],
   "source": [
    "df_messages.groupby('labels').describe()"
   ]
  },
  {
   "cell_type": "code",
   "execution_count": 13,
   "metadata": {
    "scrolled": true
   },
   "outputs": [
    {
     "data": {
      "text/html": [
       "<div>\n",
       "<style scoped>\n",
       "    .dataframe tbody tr th:only-of-type {\n",
       "        vertical-align: middle;\n",
       "    }\n",
       "\n",
       "    .dataframe tbody tr th {\n",
       "        vertical-align: top;\n",
       "    }\n",
       "\n",
       "    .dataframe thead th {\n",
       "        text-align: right;\n",
       "    }\n",
       "</style>\n",
       "<table border=\"1\" class=\"dataframe\">\n",
       "  <thead>\n",
       "    <tr style=\"text-align: right;\">\n",
       "      <th></th>\n",
       "      <th>message</th>\n",
       "      <th>word_count</th>\n",
       "      <th>character_count</th>\n",
       "    </tr>\n",
       "  </thead>\n",
       "  <tbody>\n",
       "    <tr>\n",
       "      <th>0</th>\n",
       "      <td>Go until jurong point, crazy.. Available only ...</td>\n",
       "      <td>20</td>\n",
       "      <td>111</td>\n",
       "    </tr>\n",
       "    <tr>\n",
       "      <th>1</th>\n",
       "      <td>Ok lar... Joking wif u oni...</td>\n",
       "      <td>6</td>\n",
       "      <td>29</td>\n",
       "    </tr>\n",
       "    <tr>\n",
       "      <th>2</th>\n",
       "      <td>Free entry in 2 a wkly comp to win FA Cup fina...</td>\n",
       "      <td>28</td>\n",
       "      <td>155</td>\n",
       "    </tr>\n",
       "    <tr>\n",
       "      <th>3</th>\n",
       "      <td>U dun say so early hor... U c already then say...</td>\n",
       "      <td>11</td>\n",
       "      <td>49</td>\n",
       "    </tr>\n",
       "    <tr>\n",
       "      <th>4</th>\n",
       "      <td>Nah I don't think he goes to usf, he lives aro...</td>\n",
       "      <td>13</td>\n",
       "      <td>61</td>\n",
       "    </tr>\n",
       "  </tbody>\n",
       "</table>\n",
       "</div>"
      ],
      "text/plain": [
       "                                             message  word_count  \\\n",
       "0  Go until jurong point, crazy.. Available only ...          20   \n",
       "1                      Ok lar... Joking wif u oni...           6   \n",
       "2  Free entry in 2 a wkly comp to win FA Cup fina...          28   \n",
       "3  U dun say so early hor... U c already then say...          11   \n",
       "4  Nah I don't think he goes to usf, he lives aro...          13   \n",
       "\n",
       "   character_count  \n",
       "0              111  \n",
       "1               29  \n",
       "2              155  \n",
       "3               49  \n",
       "4               61  "
      ]
     },
     "execution_count": 13,
     "metadata": {},
     "output_type": "execute_result"
    }
   ],
   "source": [
    "# calculate the word count and the character count for each message\n",
    "df_messages['word_count'] = df_messages['message'].apply(lambda x: len(str(x).split(\" \")))\n",
    "df_messages['character_count'] = df_messages['message'].str.len()\n",
    "df_messages[['message', 'word_count', 'character_count']].head()"
   ]
  },
  {
   "cell_type": "code",
   "execution_count": 24,
   "metadata": {
    "scrolled": true
   },
   "outputs": [
    {
     "name": "stdout",
     "output_type": "stream",
     "text": [
      "        message\n",
      "labels         \n",
      "ham        4825\n",
      "spam        747\n",
      "  labels  message\n",
      "0    ham     4825\n",
      "1   spam      747\n"
     ]
    },
    {
     "data": {
      "image/png": "[encoded data removed]",
      "text/plain": [
       "<Figure size 288x288 with 1 Axes>"
      ]
     },
     "metadata": {
      "needs_background": "light"
     },
     "output_type": "display_data"
    }
   ],
   "source": [
    "labels_count = pd.DataFrame(df_messages.groupby('labels')['message'].count())\n",
    "print(labels_count)\n",
    "labels_count.reset_index(inplace=True)\n",
    "print(labels_count)\n",
    "\n",
    "plt.figure(figsize=(4, 4))\n",
    "sns.barplot(labels_count['labels'], labels_count['message'])\n",
    "plt.ylabel('Frequency', fontsize=12)\n",
    "plt.xlabel('Labels', fontsize=12)\n",
    "plt.show()"
   ]
  },
  {
   "cell_type": "code",
   "execution_count": 26,
   "metadata": {
    "scrolled": true
   },
   "outputs": [
    {
     "data": {
      "text/html": [
       "<div>\n",
       "<style scoped>\n",
       "    .dataframe tbody tr th:only-of-type {\n",
       "        vertical-align: middle;\n",
       "    }\n",
       "\n",
       "    .dataframe tbody tr th {\n",
       "        vertical-align: top;\n",
       "    }\n",
       "\n",
       "    .dataframe thead th {\n",
       "        text-align: right;\n",
       "    }\n",
       "</style>\n",
       "<table border=\"1\" class=\"dataframe\">\n",
       "  <thead>\n",
       "    <tr style=\"text-align: right;\">\n",
       "      <th></th>\n",
       "      <th>labels</th>\n",
       "      <th>message</th>\n",
       "      <th>word_count</th>\n",
       "      <th>character_count</th>\n",
       "    </tr>\n",
       "  </thead>\n",
       "  <tbody>\n",
       "    <tr>\n",
       "      <th>0</th>\n",
       "      <td>0</td>\n",
       "      <td>Go until jurong point, crazy.. Available only ...</td>\n",
       "      <td>20</td>\n",
       "      <td>111</td>\n",
       "    </tr>\n",
       "    <tr>\n",
       "      <th>1</th>\n",
       "      <td>0</td>\n",
       "      <td>Ok lar... Joking wif u oni...</td>\n",
       "      <td>6</td>\n",
       "      <td>29</td>\n",
       "    </tr>\n",
       "    <tr>\n",
       "      <th>2</th>\n",
       "      <td>1</td>\n",
       "      <td>Free entry in 2 a wkly comp to win FA Cup fina...</td>\n",
       "      <td>28</td>\n",
       "      <td>155</td>\n",
       "    </tr>\n",
       "    <tr>\n",
       "      <th>3</th>\n",
       "      <td>0</td>\n",
       "      <td>U dun say so early hor... U c already then say...</td>\n",
       "      <td>11</td>\n",
       "      <td>49</td>\n",
       "    </tr>\n",
       "    <tr>\n",
       "      <th>4</th>\n",
       "      <td>0</td>\n",
       "      <td>Nah I don't think he goes to usf, he lives aro...</td>\n",
       "      <td>13</td>\n",
       "      <td>61</td>\n",
       "    </tr>\n",
       "  </tbody>\n",
       "</table>\n",
       "</div>"
      ],
      "text/plain": [
       "   labels                                            message  word_count  \\\n",
       "0       0  Go until jurong point, crazy.. Available only ...          20   \n",
       "1       0                      Ok lar... Joking wif u oni...           6   \n",
       "2       1  Free entry in 2 a wkly comp to win FA Cup fina...          28   \n",
       "3       0  U dun say so early hor... U c already then say...          11   \n",
       "4       0  Nah I don't think he goes to usf, he lives aro...          13   \n",
       "\n",
       "   character_count  \n",
       "0              111  \n",
       "1               29  \n",
       "2              155  \n",
       "3               49  \n",
       "4               61  "
      ]
     },
     "execution_count": 26,
     "metadata": {},
     "output_type": "execute_result"
    }
   ],
   "source": [
    "class_labels = {'ham':0, 'spam':1}\n",
    "df_messages['labels'] = df_messages['labels'].map(class_labels)\n",
    "df_messages.head()"
   ]
  },
  {
   "cell_type": "code",
   "execution_count": 54,
   "metadata": {
    "scrolled": true
   },
   "outputs": [
    {
     "name": "stdout",
     "output_type": "stream",
     "text": [
      "  (0, 6056)\t1\n",
      "  (0, 4739)\t1\n",
      "  (0, 2742)\t1\n",
      "  (1, 1864)\t1\n",
      "  (1, 848)\t1\n",
      "  (1, 4156)\t1\n",
      "  (1, 2165)\t1\n",
      "  (1, 3182)\t1\n",
      "  (1, 1797)\t1\n",
      "  (1, 3434)\t1\n",
      "  (2, 5819)\t1\n",
      "  (3, 7442)\t1\n",
      "  (3, 5284)\t1\n",
      "  (3, 2456)\t1\n",
      "  (4, 3315)\t1\n",
      "  (4, 4134)\t1\n",
      "  (4, 2356)\t1\n",
      "  (4, 2257)\t1\n",
      "  (4, 3623)\t1\n",
      "  (4, 6758)\t1\n",
      "  (4, 3255)\t1\n",
      "  (4, 3104)\t1\n",
      "  (4, 1432)\t1\n",
      "  (4, 6672)\t1\n",
      "  (4, 4416)\t1\n",
      "  :\t:\n",
      "  (4452, 3338)\t1\n",
      "  (4452, 6167)\t1\n",
      "  (4452, 5568)\t1\n",
      "  (4452, 3937)\t1\n",
      "  (4452, 1698)\t1\n",
      "  (4453, 4798)\t2\n",
      "  (4453, 5097)\t1\n",
      "  (4453, 4565)\t1\n",
      "  (4453, 4002)\t1\n",
      "  (4453, 1684)\t1\n",
      "  (4453, 2201)\t1\n",
      "  (4453, 7433)\t1\n",
      "  (4453, 3732)\t1\n",
      "  (4454, 4862)\t1\n",
      "  (4454, 6681)\t1\n",
      "  (4454, 3458)\t1\n",
      "  (4454, 4918)\t1\n",
      "  (4455, 1864)\t1\n",
      "  (4455, 4156)\t1\n",
      "  (4455, 3182)\t1\n",
      "  (4455, 4798)\t1\n",
      "  (4455, 5269)\t1\n",
      "  (4455, 6989)\t1\n",
      "  (4456, 1705)\t1\n",
      "  (4456, 6103)\t1\n"
     ]
    }
   ],
   "source": [
    "from sklearn.model_selection import train_test_split\n",
    "# only take the content of the messages as training data\n",
    "X_train, X_test, Y_train, Y_test = train_test_split(df_messages['message'],\\\n",
    "                                                   df_messages['labels'], test_size=0.2, random_state=1)\n",
    "from sklearn.feature_extraction.text import CountVectorizer\n",
    "# convert the collection of messages to a matrix of token counts\n",
    "\n",
    "vectorizer = CountVectorizer(lowercase=True, stop_words='english', analyzer='word')\n",
    "vect_train = vectorizer.fit_transform(X_train)\n",
    "# word frequency\n",
    "print(vect_train)\n",
    "\n"
   ]
  },
  {
   "cell_type": "code",
   "execution_count": 44,
   "metadata": {},
   "outputs": [],
   "source": [
    "from sklearn.naive_bayes import MultinomialNB\n",
    "model_nb = MultinomialNB()\n",
    "\n",
    "# fit data to the model\n",
    "model_nb.fit(vect_train, Y_train)\n",
    "\n",
    "# Use predict() to precit target class\n",
    "predict_train = model_nb.predict(vect_train)"
   ]
  },
  {
   "cell_type": "code",
   "execution_count": 49,
   "metadata": {},
   "outputs": [
    {
     "name": "stdout",
     "output_type": "stream",
     "text": [
      "Accuracy score: 0.9948395781916087\n",
      "Precision score: 0.9802955665024631\n",
      "Recall score: 0.9819078947368421\n",
      "F1 score: 0.9811010682004931\n"
     ]
    }
   ],
   "source": [
    "# measure the performance\n",
    "from sklearn.metrics import accuracy_score\n",
    "from sklearn.metrics import precision_score\n",
    "from sklearn.metrics import recall_score\n",
    "from sklearn.metrics import f1_score\n",
    "\n",
    "print(f'Accuracy score: {accuracy_score(Y_train, predict_train)}')\n",
    "print(f'Precision score: {precision_score(Y_train, predict_train)}')\n",
    "print(f'Recall score: {recall_score(Y_train, predict_train)}')\n",
    "print(f'F1 score: {f1_score(Y_train, predict_train)}')\n"
   ]
  },
  {
   "cell_type": "code",
   "execution_count": 51,
   "metadata": {},
   "outputs": [
    {
     "name": "stdout",
     "output_type": "stream",
     "text": [
      "Accuracy score: 0.9874439461883409\n",
      "Precision score: 0.9496402877697842\n",
      "Recall score: 0.9496402877697842\n",
      "F1 score: 0.9496402877697842\n"
     ]
    }
   ],
   "source": [
    "# apply the model into the test data\n",
    "vect_test = vectorizer.transform(X_test)\n",
    "prediction = model_nb.predict(vect_test)\n",
    "\n",
    "# test accuracy\n",
    "print(f'Accuracy score: {accuracy_score(Y_test, prediction)}')\n",
    "print(f'Precision score: {precision_score(Y_test, prediction)}')\n",
    "print(f'Recall score: {recall_score(Y_test, prediction)}')\n",
    "print(f'F1 score: {f1_score(Y_test, prediction)}')"
   ]
  },
  {
   "cell_type": "markdown",
   "metadata": {},
   "source": [
    "### Reference:\n",
    "Data analysis with pandas [link](https://www.packtpub.com/big-data-and-business-intelligence/hands-data-analysis-pandas) <br>\n",
    "Machine Learning Pocket Reference [link](https://www.amazon.com/Machine-Learning-Pocket-Reference-Structured/dp/1492047546) <br>\n",
    "Ensemble Machine Learning Cookbook [link](https://www.amazon.com/Ensemble-Machine-Learning-Cookbook-techniques/dp/1789136601)"
   ]
  },
  {
   "cell_type": "code",
   "execution_count": null,
   "metadata": {},
   "outputs": [],
   "source": []
  }
 ],
 "metadata": {
  "kernelspec": {
   "display_name": "Python 3",
   "language": "python",
   "name": "python3"
  },
  "language_info": {
   "codemirror_mode": {
    "name": "ipython",
    "version": 3
   },
   "file_extension": ".py",
   "mimetype": "text/x-python",
   "name": "python",
   "nbconvert_exporter": "python",
   "pygments_lexer": "ipython3",
   "version": "3.7.0"
  }
 },
 "nbformat": 4,
 "nbformat_minor": 2
}
