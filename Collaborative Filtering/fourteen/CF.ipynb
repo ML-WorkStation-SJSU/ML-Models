{
 "cells": [
  {
   "cell_type": "markdown",
   "metadata": {},
   "source": [
    "# Types of collaborative filtering techniques\n",
    "\n",
    "---\n",
    "\n",
    "**Model prediction of rating (3.25 in yellow cell) = Dot product of the 2 green vectors (embedding vectors)+ 0.14 (Movie bias) + 0.87 (User bias)**\n",
    "\n",
    "![](https://miro.medium.com/max/2768/1*3f1x1X5POBvjqVksN3oV0A.png)\n",
    "\n",
    "- Memory based approach\n",
    "- Model based approach\n",
    "\n",
    "![](https://miro.medium.com/max/2880/1*7uW5hLXztSu_FOmZOWpB6g.png)\n",
    "\n",
    "# Memory based approach\n",
    "\n",
    "---\n",
    "\n",
    "- **user-item filtering**\n",
    "    \n",
    "    takes a particular user, find users that are similar to that user based on similarity of ratings, and recommend items that those similar users liked. In contrast,\n",
    "    \n",
    "    Users who are similar to you also liked ...\n",
    "---\n",
    "- **Item-Item Collaborative Filtering**\n",
    "   \n",
    "    take an item, find users who liked that item, and find other items that those users or similar users also liked.\n",
    "    \n",
    "    Users who liked this item also liked …"
   ]
  },
  {
   "cell_type": "markdown",
   "metadata": {},
   "source": [
    "## Key difference of memory-based approach from the model-based techniques\n",
    "\n",
    "- The closest user or items are calculated only by using **Cosine similarity or Pearson correlation coefficients**, which are only based on **arithmetic operations**.\n",
    "\n",
    "- we are **not** learning any **parameter** using **gradient descent**"
   ]
  },
  {
   "cell_type": "markdown",
   "metadata": {},
   "source": [
    "## Cosine similarity\n",
    "\n",
    "For user-based collaborative filtering, two users’ similarity is measured as the **cosine of the angle between the two users’ vectors**\n",
    "\n",
    "\n",
    "For users u and u′, the cosine similarity is:\n",
    "\n",
    "![](https://miro.medium.com/max/1824/1*73viZlaDodVK3_zBpvjy_g.png)\n",
    "\n",
    "We can predict user-u’s rating for movie-i by **taking weighted sum (加权总和) of movie-i ratings from all other users (u′s)** where **weighting is similarity number between each user and user-u**.\n",
    "\n",
    "![](https://miro.medium.com/max/752/1*p6BUZ6NT9QTVPebgk47ZwQ.png)\n",
    "\n",
    "**normalize** the ratings by **total number of u′ (other user’s) ratings**.\n",
    "\n",
    "![](https://miro.medium.com/max/740/1*ksRXKDGtrvmerQ0H5s1cmg.png)"
   ]
  },
  {
   "cell_type": "markdown",
   "metadata": {},
   "source": [
    "# Model based approach\n",
    "\n",
    "![](https://miro.medium.com/max/2696/1*0vyDJr3urOA6uy-39cr91g.png)"
   ]
  },
  {
   "cell_type": "markdown",
   "metadata": {},
   "source": [
    "## RMSE（Root Mean Square Error）\n",
    "\n",
    "![](https://private.codecogs.com/gif.latex?RMSE%28X%2C%20h%29%3D%5Csqrt%7B%5Cfrac%7B1%7D%7Bm%7D%5Csum_%7Bi%3D1%7D%5E%7Bm%7D%28h%28x_%7Bi%7D%29-y_%7Bi%7D%29%5E2%7D)\n",
    "\n",
    "## MSE（Mean Square Error）\n",
    "![](https://private.codecogs.com/gif.latex?MSE%3D%5Cfrac%7B1%7D%7Bm%7D%5Csum_%7Bi%3D1%7D%5E%7Bm%7D%28y_%7Bi%7D-%5Chat%7By%7D_%7Bi%7D%29%5E2)"
   ]
  },
  {
   "cell_type": "markdown",
   "metadata": {},
   "source": [
    "## Optimizer\n",
    "\n",
    "![](https://miro.medium.com/max/272/0*lgXXFb4_R0IVzmkU.png)"
   ]
  },
  {
   "cell_type": "code",
   "execution_count": null,
   "metadata": {},
   "outputs": [],
   "source": []
  }
 ],
 "metadata": {
  "kernelspec": {
   "display_name": "Python 3.7.3 64-bit ('base': conda)",
   "language": "python",
   "name": "python37364bitbasecondaabea366e711c4f00895702eb172cf1ab"
  },
  "language_info": {
   "codemirror_mode": {
    "name": "ipython",
    "version": 3
   },
   "file_extension": ".py",
   "mimetype": "text/x-python",
   "name": "python",
   "nbconvert_exporter": "python",
   "pygments_lexer": "ipython3",
   "version": "3.7.3"
  }
 },
 "nbformat": 4,
 "nbformat_minor": 4
}
